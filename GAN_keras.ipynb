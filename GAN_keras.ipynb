{
 "cells": [
  {
   "cell_type": "markdown",
   "metadata": {},
   "source": [
    "## Generative Adversarial Network\n",
    "___\n",
    "#### Description:\n",
    "This GAN is fed images from the MNIST dataset to generate new images that resemble those from the dataset. It works by having a generator network and a discriminator network compete with one another. The generator is tasked to generate new images and it is the discriminators job to tell if the generated image is fake or real.\n",
    "___\n",
    "#### Dataset:\n",
    "\n",
    "The MNIST dataset of handwritten numbers is used.\n",
    "___\n",
    "#### References:\n",
    "https://deeplearning4j.org/generative-adversarial-network\n",
    "\n",
    "https://github.com/soumith/ganhacks"
   ]
  },
  {
   "cell_type": "code",
   "execution_count": 7,
   "metadata": {},
   "outputs": [],
   "source": [
    "# Import dependencies\n",
    "import numpy as np\n",
    "import tensorflow as tf\n",
    "import matplotlib.pyplot as plt\n",
    "from keras.layers import Input, Dense\n",
    "from keras.models import Model\n",
    "from keras.layers.advanced_activations import LeakyReLU\n",
    "\n",
    "%matplotlib inline"
   ]
  },
  {
   "cell_type": "code",
   "execution_count": 2,
   "metadata": {},
   "outputs": [
    {
     "name": "stdout",
     "output_type": "stream",
     "text": [
      "Extracting ../Datasets/MNIST/train-images-idx3-ubyte.gz\n",
      "Extracting ../Datasets/MNIST/train-labels-idx1-ubyte.gz\n",
      "Extracting ../Datasets/MNIST/t10k-images-idx3-ubyte.gz\n",
      "Extracting ../Datasets/MNIST/t10k-labels-idx1-ubyte.gz\n",
      "X train: (55000, 784)\n",
      "X test: (10000, 784)\n",
      "y train: (55000,)\n",
      "y test: (10000,)\n"
     ]
    }
   ],
   "source": [
    "# Import the dataset\n",
    "from tensorflow.examples.tutorials.mnist import input_data\n",
    "\n",
    "# Read the dataset\n",
    "dataset = input_data.read_data_sets('../Datasets/MNIST/')\n",
    "\n",
    "# Printing the dataset shape\n",
    "print('X train:', dataset.train.images.shape)\n",
    "print('X test:', dataset.test.images.shape)\n",
    "print('y train:', dataset.train.labels.shape)\n",
    "print('y test:', dataset.test.labels.shape)\n",
    "\n",
    "# NOTE: Pixel values have already been preprocessed to lie between 0 and 1"
   ]
  },
  {
   "cell_type": "code",
   "execution_count": 3,
   "metadata": {},
   "outputs": [
    {
     "data": {
      "text/plain": [
       "<matplotlib.image.AxesImage at 0x1a375358>"
      ]
     },
     "execution_count": 3,
     "metadata": {},
     "output_type": "execute_result"
    },
    {
     "data": {
      "image/png": "[encoded data removed]",
      "text/plain": [
       "<matplotlib.figure.Figure at 0x15daa0b8>"
      ]
     },
     "metadata": {},
     "output_type": "display_data"
    }
   ],
   "source": [
    "# Display a random training example\n",
    "rand_idx = np.random.randint(dataset.train.num_examples)\n",
    "plt.imshow(dataset.train.images[rand_idx].reshape(28, 28), cmap='gray')"
   ]
  },
  {
   "cell_type": "code",
   "execution_count": 4,
   "metadata": {},
   "outputs": [],
   "source": [
    "# Functions to build models\n",
    "def build_discriminator():\n",
    "    X_input = Input((784,))\n",
    "    out = Dense(128)(X_input)\n",
    "    out = LeakyReLU(alpha=0.2)(out)\n",
    "    out = Dense(128)(out)\n",
    "    out = LeakyReLU(alpha=0.2)(out)\n",
    "    out = Dense(1, activation='sigmoid')(out)\n",
    "    return Model(inputs=X_input, outputs=out)\n",
    "\n",
    "def build_generator():\n",
    "    z_input = Input((100,))\n",
    "    out = Dense(128)(z_input)\n",
    "    out = LeakyReLU(alpha=0.2)(out)\n",
    "    out = Dense(128)(out)\n",
    "    out = LeakyReLU(alpha=0.2)(out)\n",
    "    out = Dense(784, activation='tanh')(out)\n",
    "    return Model(inputs=z_input, outputs=out)\n",
    "\n",
    "def build_combined(generator, discriminator):\n",
    "    discriminator.trainable = False\n",
    "    z_input = Input((100,))\n",
    "    out = discriminator(generator(z_input))\n",
    "    return Model(inputs=z_input, outputs=out)"
   ]
  },
  {
   "cell_type": "code",
   "execution_count": 5,
   "metadata": {},
   "outputs": [],
   "source": [
    "# Build and compile the discriminator\n",
    "discriminator = build_discriminator()\n",
    "discriminator.compile(loss='binary_crossentropy', \n",
    "                      optimizer='Adam')\n",
    "\n",
    "# Build and compile the generator\n",
    "generator = build_generator()\n",
    "generator.compile(loss='binary_crossentropy', \n",
    "                  optimizer='Adam')\n",
    "\n",
    "# Build and compile the combined network\n",
    "combined = build_combined(generator, discriminator)\n",
    "combined.compile(loss='binary_crossentropy', \n",
    "                 optimizer='Adam')\n"
   ]
  },
  {
   "cell_type": "code",
   "execution_count": null,
   "metadata": {},
   "outputs": [],
   "source": [
    "# Constants/Hyperparameters\n",
    "epochs = 200\n",
    "batch_size = 128"
   ]
  },
  {
   "cell_type": "code",
   "execution_count": 6,
   "metadata": {},
   "outputs": [
    {
     "name": "stderr",
     "output_type": "stream",
     "text": [
      "C:\\Users\\Marvin\\Anaconda3\\lib\\site-packages\\keras\\engine\\training.py:973: UserWarning: Discrepancy between trainable weights and collected trainable weights, did you set `model.trainable` without calling `model.compile` after ?\n",
      "  'Discrepancy between trainable weights and collected trainable'\n"
     ]
    },
    {
     "name": "stdout",
     "output_type": "stream",
     "text": [
      "Epoch 0:\tD_loss=0.7327368259429932,\tG_loss=2.668943405151367\n",
      "Epoch 10:\tD_loss=0.8765902519226074,\tG_loss=1.649007797241211\n",
      "Epoch 20:\tD_loss=0.9935782551765442,\tG_loss=1.496755838394165\n",
      "Epoch 30:\tD_loss=1.0335314273834229,\tG_loss=1.163989543914795\n",
      "Epoch 40:\tD_loss=1.0930192470550537,\tG_loss=1.0968389511108398\n",
      "Epoch 50:\tD_loss=1.0973013639450073,\tG_loss=1.171987533569336\n",
      "Epoch 60:\tD_loss=1.071033239364624,\tG_loss=1.3023654222488403\n",
      "Epoch 70:\tD_loss=1.1028163433074951,\tG_loss=1.0346652269363403\n",
      "Epoch 80:\tD_loss=1.0727598667144775,\tG_loss=1.2243447303771973\n",
      "Epoch 90:\tD_loss=1.115614891052246,\tG_loss=1.0824534893035889\n",
      "Epoch 100:\tD_loss=1.0683891773223877,\tG_loss=1.2529772520065308\n",
      "Epoch 110:\tD_loss=1.1330838203430176,\tG_loss=1.2665573358535767\n",
      "Epoch 120:\tD_loss=1.0127438306808472,\tG_loss=1.308410882949829\n",
      "Epoch 130:\tD_loss=1.1001441478729248,\tG_loss=1.1075042486190796\n",
      "Epoch 140:\tD_loss=1.0813908576965332,\tG_loss=1.2218937873840332\n",
      "Epoch 150:\tD_loss=1.079728603363037,\tG_loss=1.3875000476837158\n",
      "Epoch 160:\tD_loss=1.0500853061676025,\tG_loss=1.0723108053207397\n",
      "Epoch 170:\tD_loss=1.028076171875,\tG_loss=1.3601763248443604\n",
      "Epoch 180:\tD_loss=1.009875774383545,\tG_loss=1.1743943691253662\n",
      "Epoch 190:\tD_loss=1.0386117696762085,\tG_loss=1.154313087463379\n"
     ]
    }
   ],
   "source": [
    "# Training\n",
    "for epoch in range(epochs):\n",
    "    \n",
    "    num_batches = dataset.train.num_examples // batch_size\n",
    "\n",
    "    for i in range(num_batches):\n",
    "\n",
    "        real_batch_images, _ = dataset.train.next_batch(batch_size)            \n",
    "        real_batch_images = real_batch_images * 2 - 1 # make pixel values between (-1, 1)\n",
    "\n",
    "        # Generate fake images\n",
    "        z = np.random.normal(0, 1, size=(batch_size, 100))       \n",
    "        fake_batch_images = generator.predict(z)\n",
    "        \n",
    "        # Train discriminator and get loss\n",
    "        D_real_loss = discriminator.train_on_batch(real_batch_images, np.random.uniform(0.7, 1.2, len(real_batch_images)))\n",
    "        D_fake_loss = discriminator.train_on_batch(fake_batch_images, np.random.uniform(0.0, 0.3, len(fake_batch_images)))\n",
    "        D_loss = D_real_loss + D_fake_loss\n",
    "\n",
    "        # Train generator and get loss\n",
    "        G_loss = combined.train_on_batch(z, np.random.uniform(0.7, 1.2, len(real_batch_images)))\n",
    "\n",
    "\n",
    "    # Print loss every 10 epochs\n",
    "    if epoch % 10 == 0:\n",
    "        print('Epoch {}:\\tD_loss={},\\tG_loss={}'.format(epoch, D_loss, G_loss))    \n",
    "        \n",
    "        # Save generated images every 10 epochs\n",
    "        sample_z = np.random.normal(0, 1, size=(25, 100))\n",
    "        gen_sample = generator.predict(sample_z)\n",
    "        gen_sample = 0.5 * gen_sample + 0.5 # make pixel values between (0, 1)\n",
    "\n",
    "        fig, ax = plt.subplots(5, 5)\n",
    "        count = 0\n",
    "        for i in range(5):\n",
    "            for j in range(5):\n",
    "                ax[i, j].imshow(gen_sample[count].reshape(28,28), cmap='gray')\n",
    "                ax[i, j].axis('off')\n",
    "                count += 1\n",
    "        fig.savefig('images/epoch_%d.png' % epoch)\n",
    "        plt.close()"
   ]
  },
  {
   "cell_type": "code",
   "execution_count": null,
   "metadata": {},
   "outputs": [],
   "source": []
  }
 ],
 "metadata": {
  "kernelspec": {
   "display_name": "Python 3",
   "language": "python",
   "name": "python3"
  },
  "language_info": {
   "codemirror_mode": {
    "name": "ipython",
    "version": 3
   },
   "file_extension": ".py",
   "mimetype": "text/x-python",
   "name": "python",
   "nbconvert_exporter": "python",
   "pygments_lexer": "ipython3",
   "version": "3.6.1"
  }
 },
 "nbformat": 4,
 "nbformat_minor": 2
}
