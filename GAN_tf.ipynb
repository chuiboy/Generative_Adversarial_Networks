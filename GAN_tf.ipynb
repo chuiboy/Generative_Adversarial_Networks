{
 "cells": [
  {
   "cell_type": "markdown",
   "metadata": {},
   "source": [
    "## Generative Adversarial Network\n",
    "___\n",
    "#### Description:\n",
    "This notebook for the most part follows an example from the Udemy course \"Complete Guide to TensorFlow for Deep Learning with Python\" section on GANs. This GAN is fed images from the MNIST dataset to generate new images that resemble those from the dataset. It works by having a generator network and a discriminator network compete with one another. The generator is tasked to generate new images and it is the discriminators job to tell if the generated image is fake or real.\n",
    "___\n",
    "#### Dataset:\n",
    "\n",
    "The MNIST dataset of handwritten numbers is used.\n",
    "___\n",
    "#### References:\n",
    "Aside from the Udemy course, I looked at https://github.com/soumith/ganhacks for ideas on how to improve training performance, and I also read  https://deeplearning4j.org/generative-adversarial-network for more information on GANs."
   ]
  },
  {
   "cell_type": "code",
   "execution_count": 1,
   "metadata": {},
   "outputs": [
    {
     "name": "stderr",
     "output_type": "stream",
     "text": [
      "C:\\Users\\Marvin\\Anaconda3\\lib\\site-packages\\h5py\\__init__.py:36: FutureWarning: Conversion of the second argument of issubdtype from `float` to `np.floating` is deprecated. In future, it will be treated as `np.float64 == np.dtype(float).type`.\n",
      "  from ._conv import register_converters as _register_converters\n"
     ]
    }
   ],
   "source": [
    "# Import dependencies\n",
    "import numpy as np\n",
    "import tensorflow as tf\n",
    "import matplotlib.pyplot as plt\n",
    "\n",
    "%matplotlib inline"
   ]
  },
  {
   "cell_type": "code",
   "execution_count": 2,
   "metadata": {},
   "outputs": [
    {
     "name": "stdout",
     "output_type": "stream",
     "text": [
      "Extracting ../Datasets/MNIST/train-images-idx3-ubyte.gz\n",
      "Extracting ../Datasets/MNIST/train-labels-idx1-ubyte.gz\n",
      "Extracting ../Datasets/MNIST/t10k-images-idx3-ubyte.gz\n",
      "Extracting ../Datasets/MNIST/t10k-labels-idx1-ubyte.gz\n",
      "X train: (55000, 784)\n",
      "X test: (10000, 784)\n",
      "y train: (55000,)\n",
      "y test: (10000,)\n"
     ]
    }
   ],
   "source": [
    "# Import the dataset\n",
    "from tensorflow.examples.tutorials.mnist import input_data\n",
    "\n",
    "# Read the dataset\n",
    "dataset = input_data.read_data_sets('../Datasets/MNIST/')\n",
    "\n",
    "# Printing the dataset shape\n",
    "print('X train:', dataset.train.images.shape)\n",
    "print('X test:', dataset.test.images.shape)\n",
    "print('y train:', dataset.train.labels.shape)\n",
    "print('y test:', dataset.test.labels.shape)\n",
    "\n",
    "# NOTE: Pixel values have already been preprocessed to lie between 0 and 1"
   ]
  },
  {
   "cell_type": "code",
   "execution_count": 3,
   "metadata": {},
   "outputs": [
    {
     "data": {
      "text/plain": [
       "<matplotlib.image.AxesImage at 0x1a204f98>"
      ]
     },
     "execution_count": 3,
     "metadata": {},
     "output_type": "execute_result"
    },
    {
     "data": {
      "image/png": "[encoded data removed]",
      "text/plain": [
       "<matplotlib.figure.Figure at 0x15bfa898>"
      ]
     },
     "metadata": {},
     "output_type": "display_data"
    }
   ],
   "source": [
    "# Display a random training example\n",
    "rand_idx = np.random.randint(dataset.train.num_examples)\n",
    "plt.imshow(dataset.train.images[rand_idx].reshape(28, 28), cmap='gray')"
   ]
  },
  {
   "cell_type": "code",
   "execution_count": 4,
   "metadata": {},
   "outputs": [],
   "source": [
    "# Generator function\n",
    "def generator(z, reuse=None):\n",
    "    with tf.variable_scope('gen', reuse=reuse):\n",
    "        hidden1 = tf.nn.leaky_relu(tf.layers.dense(inputs=z, units=128), alpha=0.2)\n",
    "        hidden2 = tf.nn.leaky_relu(tf.layers.dense(inputs=hidden1, units=128), alpha=0.2)\n",
    "        output = tf.layers.dense(inputs=hidden2, units=784, activation=tf.nn.tanh)\n",
    "    return output"
   ]
  },
  {
   "cell_type": "code",
   "execution_count": 5,
   "metadata": {},
   "outputs": [],
   "source": [
    "# Discriminator function\n",
    "def discriminator(X, reuse=None):\n",
    "    with tf.variable_scope('dis', reuse=reuse):\n",
    "        hidden1 = tf.nn.leaky_relu(tf.layers.dense(inputs=X, units=128), alpha=0.2)\n",
    "        hidden2 = tf.nn.leaky_relu(tf.layers.dense(inputs=hidden1, units=128), alpha=0.2)\n",
    "        logits = tf.layers.dense(inputs=hidden2, units=1)\n",
    "    return logits"
   ]
  },
  {
   "cell_type": "code",
   "execution_count": 6,
   "metadata": {},
   "outputs": [],
   "source": [
    "# Placeholders\n",
    "real_images = tf.placeholder(tf.float32, [None, 784])\n",
    "z = tf.placeholder(tf.float32, [None, 100])"
   ]
  },
  {
   "cell_type": "code",
   "execution_count": 7,
   "metadata": {},
   "outputs": [],
   "source": [
    "# Construct generator graph\n",
    "G = generator(z)"
   ]
  },
  {
   "cell_type": "code",
   "execution_count": 8,
   "metadata": {},
   "outputs": [],
   "source": [
    "# Construct discriminator graph and combined graph\n",
    "D_logits_real = discriminator(real_images)\n",
    "D_logits_fake = discriminator(G, reuse=True)"
   ]
  },
  {
   "cell_type": "code",
   "execution_count": 9,
   "metadata": {},
   "outputs": [],
   "source": [
    "# Loss function\n",
    "def loss_func(logits, labels):\n",
    "    return tf.reduce_mean(tf.nn.sigmoid_cross_entropy_with_logits(logits=logits, labels=labels))"
   ]
  },
  {
   "cell_type": "code",
   "execution_count": 10,
   "metadata": {},
   "outputs": [],
   "source": [
    "# Discriminator loss with smoothing\n",
    "D_real_loss = loss_func(D_logits_real, tf.random_uniform(tf.shape(D_logits_real), minval=0.7, maxval=1.2))\n",
    "D_fake_loss = loss_func(D_logits_fake, tf.random_uniform(tf.shape(D_logits_fake), minval=0.0, maxval=0.3))\n",
    "\n",
    "D_loss = (D_real_loss + D_fake_loss)"
   ]
  },
  {
   "cell_type": "code",
   "execution_count": 11,
   "metadata": {},
   "outputs": [],
   "source": [
    "# Generator loss with smoothing\n",
    "G_loss = loss_func(D_logits_fake, tf.random_uniform(tf.shape(D_logits_fake), minval=0.7, maxval=1.2))"
   ]
  },
  {
   "cell_type": "code",
   "execution_count": 12,
   "metadata": {},
   "outputs": [],
   "source": [
    "# List of trainable varibles\n",
    "tvars = tf.trainable_variables()\n",
    "d_vars = [var for var in tvars if 'dis' in var.name]\n",
    "g_vars = [var for var in tvars if 'gen' in var.name]"
   ]
  },
  {
   "cell_type": "code",
   "execution_count": 13,
   "metadata": {},
   "outputs": [
    {
     "data": {
      "text/plain": [
       "[<tf.Variable 'dis/dense/kernel:0' shape=(784, 128) dtype=float32_ref>,\n",
       " <tf.Variable 'dis/dense/bias:0' shape=(128,) dtype=float32_ref>,\n",
       " <tf.Variable 'dis/dense_1/kernel:0' shape=(128, 128) dtype=float32_ref>,\n",
       " <tf.Variable 'dis/dense_1/bias:0' shape=(128,) dtype=float32_ref>,\n",
       " <tf.Variable 'dis/dense_2/kernel:0' shape=(128, 1) dtype=float32_ref>,\n",
       " <tf.Variable 'dis/dense_2/bias:0' shape=(1,) dtype=float32_ref>]"
      ]
     },
     "execution_count": 13,
     "metadata": {},
     "output_type": "execute_result"
    }
   ],
   "source": [
    "# Inspect discriminator variables\n",
    "d_vars"
   ]
  },
  {
   "cell_type": "code",
   "execution_count": 14,
   "metadata": {},
   "outputs": [],
   "source": [
    "# Constants/Hyperparameters\n",
    "batch_size = 128\n",
    "epochs = 200\n",
    "learning_rate = 2e-4"
   ]
  },
  {
   "cell_type": "code",
   "execution_count": 15,
   "metadata": {},
   "outputs": [],
   "source": [
    "# Optimizer for discriminator\n",
    "D_trainer = tf.train.AdamOptimizer(learning_rate).minimize(D_loss, var_list=d_vars)"
   ]
  },
  {
   "cell_type": "code",
   "execution_count": 16,
   "metadata": {},
   "outputs": [],
   "source": [
    "# Optimizer for generator (discriminator weights do not get updated)\n",
    "G_trainer = tf.train.AdamOptimizer(learning_rate).minimize(G_loss, var_list=g_vars)"
   ]
  },
  {
   "cell_type": "code",
   "execution_count": 17,
   "metadata": {},
   "outputs": [],
   "source": [
    "# Create a saver\n",
    "saver = tf.train.Saver()"
   ]
  },
  {
   "cell_type": "code",
   "execution_count": 18,
   "metadata": {
    "scrolled": true
   },
   "outputs": [
    {
     "name": "stdout",
     "output_type": "stream",
     "text": [
      "Epoch 0:\tD_loss=0.6600810289382935,\tG_loss=1.4707157611846924\n",
      "Epoch 10:\tD_loss=0.8271271586418152,\tG_loss=1.2036936283111572\n",
      "Epoch 20:\tD_loss=1.0006135702133179,\tG_loss=1.2571945190429688\n",
      "Epoch 30:\tD_loss=0.8369283676147461,\tG_loss=1.5662391185760498\n",
      "Epoch 40:\tD_loss=0.9366947412490845,\tG_loss=1.1670918464660645\n",
      "Epoch 50:\tD_loss=0.9845638275146484,\tG_loss=1.0834474563598633\n",
      "Epoch 60:\tD_loss=0.9992818236351013,\tG_loss=1.1366631984710693\n",
      "Epoch 70:\tD_loss=0.9344243407249451,\tG_loss=1.3494305610656738\n",
      "Epoch 80:\tD_loss=1.1038422584533691,\tG_loss=1.1676753759384155\n",
      "Epoch 90:\tD_loss=0.9874786138534546,\tG_loss=1.1857624053955078\n",
      "Epoch 100:\tD_loss=1.0226231813430786,\tG_loss=1.007949948310852\n",
      "Epoch 110:\tD_loss=1.1121187210083008,\tG_loss=1.190567135810852\n",
      "Epoch 120:\tD_loss=1.0080595016479492,\tG_loss=1.2641711235046387\n",
      "Epoch 130:\tD_loss=1.0714389085769653,\tG_loss=1.0290733575820923\n",
      "Epoch 140:\tD_loss=1.0431876182556152,\tG_loss=1.1200950145721436\n",
      "Epoch 150:\tD_loss=1.1082284450531006,\tG_loss=1.2943652868270874\n",
      "Epoch 160:\tD_loss=1.118405818939209,\tG_loss=1.1639652252197266\n",
      "Epoch 170:\tD_loss=1.0528059005737305,\tG_loss=1.27152419090271\n",
      "Epoch 180:\tD_loss=1.0687044858932495,\tG_loss=1.139794111251831\n",
      "Epoch 190:\tD_loss=1.091787338256836,\tG_loss=1.1190263032913208\n"
     ]
    }
   ],
   "source": [
    "# Create a session\n",
    "with tf.Session() as sess:\n",
    "    \n",
    "    # Initialize variables\n",
    "    sess.run(tf.global_variables_initializer())\n",
    "    \n",
    "    # Training\n",
    "    for epoch in range(epochs):\n",
    "        \n",
    "        num_batches = dataset.train.num_examples // batch_size\n",
    "        \n",
    "        for i in range(num_batches):\n",
    "            \n",
    "            batch_images, _ = dataset.train.next_batch(batch_size)            \n",
    "            batch_images = batch_images * 2 - 1 # make pixel values between (-1, 1)            \n",
    "            batch_z = np.random.normal(0, 1, size=(batch_size, 100))\n",
    "                \n",
    "            # Training step\n",
    "            sess.run(D_trainer, feed_dict={real_images: batch_images, z: batch_z})\n",
    "            sess.run(G_trainer, feed_dict={z: batch_z})\n",
    "        \n",
    "        # Evaluate loss every 10 epochs\n",
    "        if epoch % 10 == 0:\n",
    "            D_loss_val = D_loss.eval(feed_dict={real_images: batch_images, z: batch_z})\n",
    "            G_loss_val = G_loss.eval(feed_dict={z: batch_z})\n",
    "            print('Epoch {}:\\tD_loss={},\\tG_loss={}'.format(epoch, D_loss_val, G_loss_val))        \n",
    "            \n",
    "            # Save generated images every 10 epochs\n",
    "            sample_z = np.random.normal(0, 1, size=(25, 100))\n",
    "            gen_sample = sess.run(generator(z, reuse=True), feed_dict={z: sample_z})\n",
    "            gen_sample = 0.5 * gen_sample + 0.5 # make pixel values between (0, 1)\n",
    "            \n",
    "            fig, ax = plt.subplots(5, 5)\n",
    "            count = 0\n",
    "            for i in range(5):\n",
    "                for j in range(5):\n",
    "                    ax[i, j].imshow(gen_sample[count].reshape(28, 28), cmap='gray')\n",
    "                    ax[i, j].axis('off')\n",
    "                    count += 1\n",
    "            fig.savefig('images/epoch_%d.png' % epoch)\n",
    "            plt.close()\n",
    "        \n",
    "    # Save the session\n",
    "    saver.save(sess, './gan_session.ckpt')"
   ]
  },
  {
   "cell_type": "code",
   "execution_count": null,
   "metadata": {},
   "outputs": [],
   "source": []
  }
 ],
 "metadata": {
  "kernelspec": {
   "display_name": "Python 3",
   "language": "python",
   "name": "python3"
  },
  "language_info": {
   "codemirror_mode": {
    "name": "ipython",
    "version": 3
   },
   "file_extension": ".py",
   "mimetype": "text/x-python",
   "name": "python",
   "nbconvert_exporter": "python",
   "pygments_lexer": "ipython3",
   "version": "3.6.1"
  }
 },
 "nbformat": 4,
 "nbformat_minor": 2
}
